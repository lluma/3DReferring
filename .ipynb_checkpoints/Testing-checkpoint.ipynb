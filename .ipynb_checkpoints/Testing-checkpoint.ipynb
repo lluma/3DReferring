{
 "cells": [
  {
   "cell_type": "code",
   "execution_count": 1,
   "metadata": {},
   "outputs": [],
   "source": [
    "from src.configs.config import CONF as cfg\n",
    "from src.models.WordEmbedding import Embedding\n",
    "from src.dataMgr.ScanReferDataset import ScanRefer, ReferredScanNetDataset"
   ]
  },
  {
   "cell_type": "code",
   "execution_count": 2,
   "metadata": {},
   "outputs": [],
   "source": [
    "embedder = Embedding(cfg)"
   ]
  },
  {
   "cell_type": "code",
   "execution_count": 3,
   "metadata": {},
   "outputs": [
    {
     "name": "stderr",
     "output_type": "stream",
     "text": [
      "ScanRefer word indexing: 100%|██████████| 36665/36665 [00:00<00:00, 66471.39it/s]\n"
     ]
    },
    {
     "name": "stdout",
     "output_type": "stream",
     "text": [
      "Loading ScanNet data...\n",
      "Preparing ScanRefer train data...\n"
     ]
    },
    {
     "name": "stderr",
     "output_type": "stream",
     "text": [
      "100%|██████████| 4583/4583 [00:31<00:00, 147.06it/s]\n",
      "100%|██████████| 4583/4583 [00:29<00:00, 153.97it/s]\n",
      "100%|██████████| 4583/4583 [00:31<00:00, 145.35it/s]\n",
      "100%|██████████| 4583/4583 [00:31<00:00, 144.62it/s]\n",
      "100%|██████████| 4583/4583 [00:30<00:00, 149.53it/s]\n",
      "100%|██████████| 4583/4583 [00:30<00:00, 150.26it/s]\n",
      "100%|██████████| 4583/4583 [00:29<00:00, 153.35it/s]\n",
      "100%|██████████| 4584/4584 [00:30<00:00, 152.09it/s]\n"
     ]
    }
   ],
   "source": [
    "scanrefer_train = ScanRefer(cfg, embedder=embedder, num_scenes=-1, split='train')\n",
    "train_dataset = ReferredScanNetDataset(cfg, scanrefer=scanrefer_train, embedder=embedder, split=scanrefer_train.split, augment=False, debug=False)"
   ]
  },
  {
   "cell_type": "code",
   "execution_count": 5,
   "metadata": {},
   "outputs": [],
   "source": [
    "sample = train_dataset[0]"
   ]
  },
  {
   "cell_type": "code",
   "execution_count": 11,
   "metadata": {},
   "outputs": [
    {
     "data": {
      "text/plain": [
       "dict_keys(['point_cloud', 'object_name', 'corners', 'class_id', 'instance_seg', 'description', 'original_description'])"
      ]
     },
     "execution_count": 11,
     "metadata": {},
     "output_type": "execute_result"
    }
   ],
   "source": [
    "sample.keys()"
   ]
  },
  {
   "cell_type": "code",
   "execution_count": 9,
   "metadata": {},
   "outputs": [
    {
     "data": {
      "text/plain": [
       "array([[ 0.9839358 ,  0.92731726, -0.23090237,  0.9105882 ,  0.6141177 ,\n",
       "         0.4129412 ],\n",
       "       [-1.4889873 , -3.5042856 ,  0.711852  ,  1.6094117 ,  1.842353  ,\n",
       "         1.7470589 ],\n",
       "       [ 1.0158157 ,  2.9060938 , -0.05019659,  0.88941175,  0.60352945,\n",
       "         0.37058824],\n",
       "       ...,\n",
       "       [ 3.2280147 ,  2.576096  ,  0.16352183,  1.44      ,  1.4929413 ,\n",
       "         1.2811766 ],\n",
       "       [ 3.2126675 ,  0.8424277 ,  0.81610817,  1.6941177 ,  1.4188236 ,\n",
       "         1.0799999 ],\n",
       "       [ 2.357912  ,  2.12304   , -0.8389299 ,  1.704706  ,  1.4505882 ,\n",
       "         1.1117647 ]], dtype=float32)"
      ]
     },
     "execution_count": 9,
     "metadata": {},
     "output_type": "execute_result"
    }
   ],
   "source": [
    "sample['point_cloud']"
   ]
  },
  {
   "cell_type": "code",
   "execution_count": 15,
   "metadata": {},
   "outputs": [
    {
     "name": "stdout",
     "output_type": "stream",
     "text": [
      "Num object points: 92\n",
      "Num total points: 4096\n"
     ]
    }
   ],
   "source": [
    "num_p = 0\n",
    "for p in sample['instance_seg']:\n",
    "    if p == 1.0:\n",
    "        num_p += 1\n",
    "print ('Num object points:', num_p)\n",
    "print ('Num total points:', len(sample['instance_seg']))"
   ]
  },
  {
   "cell_type": "code",
   "execution_count": 16,
   "metadata": {},
   "outputs": [
    {
     "data": {
      "text/html": [
       "        <script type=\"text/javascript\">\n",
       "        window.PlotlyConfig = {MathJaxConfig: 'local'};\n",
       "        if (window.MathJax) {MathJax.Hub.Config({SVG: {font: \"STIX-Web\"}});}\n",
       "        if (typeof require !== 'undefined') {\n",
       "        require.undef(\"plotly\");\n",
       "        requirejs.config({\n",
       "            paths: {\n",
       "                'plotly': ['https://cdn.plot.ly/plotly-latest.min']\n",
       "            }\n",
       "        });\n",
       "        require(['plotly'], function(Plotly) {\n",
       "            window._Plotly = Plotly;\n",
       "        });\n",
       "        }\n",
       "        </script>\n",
       "        "
      ]
     },
     "metadata": {},
     "output_type": "display_data"
    }
   ],
   "source": [
    "from src.utils.Visualizer import get_scene_plot"
   ]
  },
  {
   "cell_type": "code",
   "execution_count": null,
   "metadata": {},
   "outputs": [],
   "source": [
    "def instance_seg_visualize(scene, class_id):\n",
    "    \n",
    "    pc = copy.deepcopy(scene[\"mesh_vertices\"])\n",
    "    instances = copy.deepcopy(scene[\"instance_labels\"])\n",
    "    semantics = copy.deepcopy(scene[\"semantic_labels\"])\n",
    "    \n",
    "    target_semantics = np.zeros_like(semantics)\n",
    "    target_semantics[semantics == class_id] = 1\n",
    "    \n",
    "    semantic_indices = np.argwhere(target_semantics)\n",
    "    semantic_indices = semantic_indices.reshape(-1)\n",
    "    \n",
    "    target_instances = instances[semantic_indices]\n",
    "    \n",
    "    pc[semantic_indices, 3:6] = np.array([255,0,0]).reshape(1,3)\n",
    "    \n",
    "    scene_plot = get_scene_plot(pc)\n",
    "    plots = [scene_plot]\n",
    "    \n",
    "    fig = go.Figure(data=plots)\n",
    "    fig.show()"
   ]
  }
 ],
 "metadata": {
  "kernelspec": {
   "display_name": "Python 3",
   "language": "python",
   "name": "python3"
  },
  "language_info": {
   "codemirror_mode": {
    "name": "ipython",
    "version": 3
   },
   "file_extension": ".py",
   "mimetype": "text/x-python",
   "name": "python",
   "nbconvert_exporter": "python",
   "pygments_lexer": "ipython3",
   "version": "3.6.9"
  }
 },
 "nbformat": 4,
 "nbformat_minor": 4
}
